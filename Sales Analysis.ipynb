{
 "cells": [
  {
   "cell_type": "code",
   "execution_count": 1,
   "id": "132c3c2a",
   "metadata": {},
   "outputs": [],
   "source": [
    "import pandas as pd\n",
    "import numpy as np\n",
    "import seaborn as sns\n",
    "import matplotlib.pyplot as plt"
   ]
  },
  {
   "cell_type": "code",
   "execution_count": 3,
   "id": "1405e1cb",
   "metadata": {},
   "outputs": [],
   "source": [
    "sales=pd.read_csv('Sales.csv')"
   ]
  },
  {
   "cell_type": "code",
   "execution_count": 4,
   "id": "53ded3b2",
   "metadata": {},
   "outputs": [
    {
     "data": {
      "text/html": [
       "<div>\n",
       "<style scoped>\n",
       "    .dataframe tbody tr th:only-of-type {\n",
       "        vertical-align: middle;\n",
       "    }\n",
       "\n",
       "    .dataframe tbody tr th {\n",
       "        vertical-align: top;\n",
       "    }\n",
       "\n",
       "    .dataframe thead th {\n",
       "        text-align: right;\n",
       "    }\n",
       "</style>\n",
       "<table border=\"1\" class=\"dataframe\">\n",
       "  <thead>\n",
       "    <tr style=\"text-align: right;\">\n",
       "      <th></th>\n",
       "      <th>Order ID</th>\n",
       "      <th>Product</th>\n",
       "      <th>Quantity Ordered</th>\n",
       "      <th>Price Each</th>\n",
       "      <th>Order Date</th>\n",
       "      <th>Purchase Address</th>\n",
       "    </tr>\n",
       "  </thead>\n",
       "  <tbody>\n",
       "    <tr>\n",
       "      <th>0</th>\n",
       "      <td>236670</td>\n",
       "      <td>Wired Headphones</td>\n",
       "      <td>2</td>\n",
       "      <td>11.99</td>\n",
       "      <td>08/31/19 22:21</td>\n",
       "      <td>359 Spruce St, Seattle, WA 98101</td>\n",
       "    </tr>\n",
       "    <tr>\n",
       "      <th>1</th>\n",
       "      <td>236671</td>\n",
       "      <td>Bose SoundSport Headphones</td>\n",
       "      <td>1</td>\n",
       "      <td>99.99</td>\n",
       "      <td>08/15/19 15:11</td>\n",
       "      <td>492 Ridge St, Dallas, TX 75001</td>\n",
       "    </tr>\n",
       "    <tr>\n",
       "      <th>2</th>\n",
       "      <td>236672</td>\n",
       "      <td>iPhone</td>\n",
       "      <td>1</td>\n",
       "      <td>700.0</td>\n",
       "      <td>08/06/19 14:40</td>\n",
       "      <td>149 7th St, Portland, OR 97035</td>\n",
       "    </tr>\n",
       "    <tr>\n",
       "      <th>3</th>\n",
       "      <td>236673</td>\n",
       "      <td>AA Batteries (4-pack)</td>\n",
       "      <td>2</td>\n",
       "      <td>3.84</td>\n",
       "      <td>08/29/19 20:59</td>\n",
       "      <td>631 2nd St, Los Angeles, CA 90001</td>\n",
       "    </tr>\n",
       "    <tr>\n",
       "      <th>4</th>\n",
       "      <td>236674</td>\n",
       "      <td>AA Batteries (4-pack)</td>\n",
       "      <td>2</td>\n",
       "      <td>3.84</td>\n",
       "      <td>08/15/19 19:53</td>\n",
       "      <td>736 14th St, New York City, NY 10001</td>\n",
       "    </tr>\n",
       "  </tbody>\n",
       "</table>\n",
       "</div>"
      ],
      "text/plain": [
       "  Order ID                     Product Quantity Ordered Price Each  \\\n",
       "0   236670            Wired Headphones                2      11.99   \n",
       "1   236671  Bose SoundSport Headphones                1      99.99   \n",
       "2   236672                      iPhone                1      700.0   \n",
       "3   236673       AA Batteries (4-pack)                2       3.84   \n",
       "4   236674       AA Batteries (4-pack)                2       3.84   \n",
       "\n",
       "       Order Date                      Purchase Address  \n",
       "0  08/31/19 22:21      359 Spruce St, Seattle, WA 98101  \n",
       "1  08/15/19 15:11        492 Ridge St, Dallas, TX 75001  \n",
       "2  08/06/19 14:40        149 7th St, Portland, OR 97035  \n",
       "3  08/29/19 20:59     631 2nd St, Los Angeles, CA 90001  \n",
       "4  08/15/19 19:53  736 14th St, New York City, NY 10001  "
      ]
     },
     "execution_count": 4,
     "metadata": {},
     "output_type": "execute_result"
    }
   ],
   "source": [
    "sales.head()"
   ]
  },
  {
   "cell_type": "code",
   "execution_count": 5,
   "id": "8fa63fca",
   "metadata": {},
   "outputs": [
    {
     "name": "stdout",
     "output_type": "stream",
     "text": [
      "<class 'pandas.core.frame.DataFrame'>\n",
      "RangeIndex: 186850 entries, 0 to 186849\n",
      "Data columns (total 6 columns):\n",
      " #   Column            Non-Null Count   Dtype \n",
      "---  ------            --------------   ----- \n",
      " 0   Order ID          186305 non-null  object\n",
      " 1   Product           186305 non-null  object\n",
      " 2   Quantity Ordered  186305 non-null  object\n",
      " 3   Price Each        186305 non-null  object\n",
      " 4   Order Date        186305 non-null  object\n",
      " 5   Purchase Address  186305 non-null  object\n",
      "dtypes: object(6)\n",
      "memory usage: 8.6+ MB\n"
     ]
    }
   ],
   "source": [
    "sales.info()            #-- Their is no null value in our sales dataset"
   ]
  },
  {
   "cell_type": "code",
   "execution_count": 7,
   "id": "37de3dae",
   "metadata": {},
   "outputs": [
    {
     "data": {
      "text/plain": [
       "(186850, 6)"
      ]
     },
     "execution_count": 7,
     "metadata": {},
     "output_type": "execute_result"
    }
   ],
   "source": [
    "sales.shape"
   ]
  },
  {
   "cell_type": "code",
   "execution_count": 12,
   "id": "4b9d7006",
   "metadata": {},
   "outputs": [
    {
     "name": "stdout",
     "output_type": "stream",
     "text": [
      "Order ID            545\n",
      "Product             545\n",
      "Quantity Ordered    545\n",
      "Price Each          545\n",
      "Order Date          545\n",
      "Purchase Address    545\n",
      "dtype: int64\n",
      "Thier are 545 missing value each column have so we have to clean it.\n"
     ]
    }
   ],
   "source": [
    "# Getting the number of missing data per column\n",
    "missing_values_count = sales.isnull().sum()\n",
    "print(missing_values_count)\n",
    "print('Thier are 545 missing value each column have so we have to clean it.')"
   ]
  },
  {
   "cell_type": "code",
   "execution_count": 13,
   "id": "da2ed4ba",
   "metadata": {},
   "outputs": [],
   "source": [
    "# drop the row when ALL values are NULL\n",
    "sales=sales.dropna(how='all') "
   ]
  },
  {
   "cell_type": "code",
   "execution_count": 16,
   "id": "840a2628",
   "metadata": {},
   "outputs": [
    {
     "data": {
      "text/plain": [
       "Order ID            0\n",
       "Product             0\n",
       "Quantity Ordered    0\n",
       "Price Each          0\n",
       "Order Date          0\n",
       "Purchase Address    0\n",
       "dtype: int64"
      ]
     },
     "execution_count": 16,
     "metadata": {},
     "output_type": "execute_result"
    }
   ],
   "source": [
    "sales.isna().sum()"
   ]
  },
  {
   "cell_type": "code",
   "execution_count": 17,
   "id": "ab1ea79b",
   "metadata": {},
   "outputs": [
    {
     "data": {
      "text/plain": [
       "array(['2', '1', '3', '4', 'Quantity Ordered', '6', '7', '5', '8', '9'],\n",
       "      dtype=object)"
      ]
     },
     "execution_count": 17,
     "metadata": {},
     "output_type": "execute_result"
    }
   ],
   "source": [
    "# We have a problem with the data that has text repetition\n",
    "sales['Quantity Ordered'].unique()"
   ]
  },
  {
   "cell_type": "code",
   "execution_count": 18,
   "id": "8dd58997",
   "metadata": {},
   "outputs": [],
   "source": [
    "text = sales['Quantity Ordered'] != 'Quantity Ordered'\n"
   ]
  },
  {
   "cell_type": "code",
   "execution_count": 19,
   "id": "7f269247",
   "metadata": {},
   "outputs": [],
   "source": [
    "# Replacing data without text values in quantity ordered\n",
    "sales = sales[text]"
   ]
  },
  {
   "cell_type": "code",
   "execution_count": 20,
   "id": "09b38dfd",
   "metadata": {},
   "outputs": [
    {
     "data": {
      "text/plain": [
       "array(['2', '1', '3', '4', '6', '7', '5', '8', '9'], dtype=object)"
      ]
     },
     "execution_count": 20,
     "metadata": {},
     "output_type": "execute_result"
    }
   ],
   "source": [
    "sales['Quantity Ordered'].unique()       # Now the data has no text repetition."
   ]
  },
  {
   "cell_type": "markdown",
   "id": "3ac9535b",
   "metadata": {},
   "source": [
    "#Changing 'Quantity Ordered' and 'Price Each' Data Type"
   ]
  },
  {
   "cell_type": "code",
   "execution_count": 24,
   "id": "bd36655d",
   "metadata": {},
   "outputs": [
    {
     "name": "stdout",
     "output_type": "stream",
     "text": [
      "<class 'pandas.core.frame.DataFrame'>\n",
      "Int64Index: 185950 entries, 0 to 186849\n",
      "Data columns (total 6 columns):\n",
      " #   Column            Non-Null Count   Dtype  \n",
      "---  ------            --------------   -----  \n",
      " 0   Order ID          185950 non-null  object \n",
      " 1   Product           185950 non-null  object \n",
      " 2   Quantity Ordered  185950 non-null  int32  \n",
      " 3   Price Each        185950 non-null  float64\n",
      " 4   Order Date        185950 non-null  object \n",
      " 5   Purchase Address  185950 non-null  object \n",
      "dtypes: float64(1), int32(1), object(4)\n",
      "memory usage: 9.2+ MB\n"
     ]
    }
   ],
   "source": [
    "# Convert the 'Quantity Ordered' and 'Price Each' data type to numeric data type (int and float)\n",
    "sales['Quantity Ordered'], sales['Price Each'] = sales['Quantity Ordered'].astype('int32'),sales['Price Each'].astype('float')\n",
    "sales.info()"
   ]
  },
  {
   "cell_type": "code",
   "execution_count": 26,
   "id": "24dd220e",
   "metadata": {},
   "outputs": [
    {
     "name": "stdout",
     "output_type": "stream",
     "text": [
      "<class 'pandas.core.frame.DataFrame'>\n",
      "Int64Index: 185950 entries, 0 to 186849\n",
      "Data columns (total 6 columns):\n",
      " #   Column            Non-Null Count   Dtype         \n",
      "---  ------            --------------   -----         \n",
      " 0   Order ID          185950 non-null  object        \n",
      " 1   Product           185950 non-null  object        \n",
      " 2   Quantity Ordered  185950 non-null  int32         \n",
      " 3   Price Each        185950 non-null  float64       \n",
      " 4   Order Date        185950 non-null  datetime64[ns]\n",
      " 5   Purchase Address  185950 non-null  object        \n",
      "dtypes: datetime64[ns](1), float64(1), int32(1), object(3)\n",
      "memory usage: 9.2+ MB\n"
     ]
    }
   ],
   "source": [
    "# change to date-time type data\n",
    "\n",
    "sales['Order Date'] = pd.to_datetime(sales['Order Date']) \n",
    "sales.info()"
   ]
  },
  {
   "cell_type": "markdown",
   "id": "8d3b1419",
   "metadata": {},
   "source": [
    "# Adding Month, Hour, Minute, Revenue, and City Column"
   ]
  },
  {
   "cell_type": "code",
   "execution_count": 27,
   "id": "8cfa702b",
   "metadata": {},
   "outputs": [],
   "source": [
    "# Create Year, Month, Hour, Minute Column\n",
    "sales['Year'] = sales['Order Date'].dt.year\n",
    "sales['Month'] = sales['Order Date'].dt.month\n",
    "sales['Hour'] = sales['Order Date'].dt.hour\n",
    "sales['Minute'] = sales['Order Date'].dt.minute"
   ]
  },
  {
   "cell_type": "code",
   "execution_count": 28,
   "id": "0667fb1d",
   "metadata": {},
   "outputs": [
    {
     "data": {
      "text/html": [
       "<div>\n",
       "<style scoped>\n",
       "    .dataframe tbody tr th:only-of-type {\n",
       "        vertical-align: middle;\n",
       "    }\n",
       "\n",
       "    .dataframe tbody tr th {\n",
       "        vertical-align: top;\n",
       "    }\n",
       "\n",
       "    .dataframe thead th {\n",
       "        text-align: right;\n",
       "    }\n",
       "</style>\n",
       "<table border=\"1\" class=\"dataframe\">\n",
       "  <thead>\n",
       "    <tr style=\"text-align: right;\">\n",
       "      <th></th>\n",
       "      <th>Order ID</th>\n",
       "      <th>Product</th>\n",
       "      <th>Quantity Ordered</th>\n",
       "      <th>Price Each</th>\n",
       "      <th>Order Date</th>\n",
       "      <th>Purchase Address</th>\n",
       "      <th>Year</th>\n",
       "      <th>Month</th>\n",
       "      <th>Hour</th>\n",
       "      <th>Minute</th>\n",
       "    </tr>\n",
       "  </thead>\n",
       "  <tbody>\n",
       "    <tr>\n",
       "      <th>0</th>\n",
       "      <td>236670</td>\n",
       "      <td>Wired Headphones</td>\n",
       "      <td>2</td>\n",
       "      <td>11.99</td>\n",
       "      <td>2019-08-31 22:21:00</td>\n",
       "      <td>359 Spruce St, Seattle, WA 98101</td>\n",
       "      <td>2019</td>\n",
       "      <td>8</td>\n",
       "      <td>22</td>\n",
       "      <td>21</td>\n",
       "    </tr>\n",
       "    <tr>\n",
       "      <th>1</th>\n",
       "      <td>236671</td>\n",
       "      <td>Bose SoundSport Headphones</td>\n",
       "      <td>1</td>\n",
       "      <td>99.99</td>\n",
       "      <td>2019-08-15 15:11:00</td>\n",
       "      <td>492 Ridge St, Dallas, TX 75001</td>\n",
       "      <td>2019</td>\n",
       "      <td>8</td>\n",
       "      <td>15</td>\n",
       "      <td>11</td>\n",
       "    </tr>\n",
       "    <tr>\n",
       "      <th>2</th>\n",
       "      <td>236672</td>\n",
       "      <td>iPhone</td>\n",
       "      <td>1</td>\n",
       "      <td>700.00</td>\n",
       "      <td>2019-08-06 14:40:00</td>\n",
       "      <td>149 7th St, Portland, OR 97035</td>\n",
       "      <td>2019</td>\n",
       "      <td>8</td>\n",
       "      <td>14</td>\n",
       "      <td>40</td>\n",
       "    </tr>\n",
       "    <tr>\n",
       "      <th>3</th>\n",
       "      <td>236673</td>\n",
       "      <td>AA Batteries (4-pack)</td>\n",
       "      <td>2</td>\n",
       "      <td>3.84</td>\n",
       "      <td>2019-08-29 20:59:00</td>\n",
       "      <td>631 2nd St, Los Angeles, CA 90001</td>\n",
       "      <td>2019</td>\n",
       "      <td>8</td>\n",
       "      <td>20</td>\n",
       "      <td>59</td>\n",
       "    </tr>\n",
       "    <tr>\n",
       "      <th>4</th>\n",
       "      <td>236674</td>\n",
       "      <td>AA Batteries (4-pack)</td>\n",
       "      <td>2</td>\n",
       "      <td>3.84</td>\n",
       "      <td>2019-08-15 19:53:00</td>\n",
       "      <td>736 14th St, New York City, NY 10001</td>\n",
       "      <td>2019</td>\n",
       "      <td>8</td>\n",
       "      <td>19</td>\n",
       "      <td>53</td>\n",
       "    </tr>\n",
       "  </tbody>\n",
       "</table>\n",
       "</div>"
      ],
      "text/plain": [
       "  Order ID                     Product  Quantity Ordered  Price Each  \\\n",
       "0   236670            Wired Headphones                 2       11.99   \n",
       "1   236671  Bose SoundSport Headphones                 1       99.99   \n",
       "2   236672                      iPhone                 1      700.00   \n",
       "3   236673       AA Batteries (4-pack)                 2        3.84   \n",
       "4   236674       AA Batteries (4-pack)                 2        3.84   \n",
       "\n",
       "           Order Date                      Purchase Address  Year  Month  \\\n",
       "0 2019-08-31 22:21:00      359 Spruce St, Seattle, WA 98101  2019      8   \n",
       "1 2019-08-15 15:11:00        492 Ridge St, Dallas, TX 75001  2019      8   \n",
       "2 2019-08-06 14:40:00        149 7th St, Portland, OR 97035  2019      8   \n",
       "3 2019-08-29 20:59:00     631 2nd St, Los Angeles, CA 90001  2019      8   \n",
       "4 2019-08-15 19:53:00  736 14th St, New York City, NY 10001  2019      8   \n",
       "\n",
       "   Hour  Minute  \n",
       "0    22      21  \n",
       "1    15      11  \n",
       "2    14      40  \n",
       "3    20      59  \n",
       "4    19      53  "
      ]
     },
     "execution_count": 28,
     "metadata": {},
     "output_type": "execute_result"
    }
   ],
   "source": [
    "sales.head()"
   ]
  },
  {
   "cell_type": "markdown",
   "id": "1b9db6e8",
   "metadata": {},
   "source": [
    "# Adding Revenue Column"
   ]
  },
  {
   "cell_type": "code",
   "execution_count": 29,
   "id": "0e2cdd79",
   "metadata": {},
   "outputs": [],
   "source": [
    "sales['Revenue'] = sales['Price Each'] * sales['Quantity Ordered']"
   ]
  },
  {
   "cell_type": "code",
   "execution_count": 30,
   "id": "c9abdd3a",
   "metadata": {},
   "outputs": [
    {
     "data": {
      "text/html": [
       "<div>\n",
       "<style scoped>\n",
       "    .dataframe tbody tr th:only-of-type {\n",
       "        vertical-align: middle;\n",
       "    }\n",
       "\n",
       "    .dataframe tbody tr th {\n",
       "        vertical-align: top;\n",
       "    }\n",
       "\n",
       "    .dataframe thead th {\n",
       "        text-align: right;\n",
       "    }\n",
       "</style>\n",
       "<table border=\"1\" class=\"dataframe\">\n",
       "  <thead>\n",
       "    <tr style=\"text-align: right;\">\n",
       "      <th></th>\n",
       "      <th>Order ID</th>\n",
       "      <th>Product</th>\n",
       "      <th>Quantity Ordered</th>\n",
       "      <th>Price Each</th>\n",
       "      <th>Order Date</th>\n",
       "      <th>Purchase Address</th>\n",
       "      <th>Year</th>\n",
       "      <th>Month</th>\n",
       "      <th>Hour</th>\n",
       "      <th>Minute</th>\n",
       "      <th>Revenue</th>\n",
       "    </tr>\n",
       "  </thead>\n",
       "  <tbody>\n",
       "    <tr>\n",
       "      <th>0</th>\n",
       "      <td>236670</td>\n",
       "      <td>Wired Headphones</td>\n",
       "      <td>2</td>\n",
       "      <td>11.99</td>\n",
       "      <td>2019-08-31 22:21:00</td>\n",
       "      <td>359 Spruce St, Seattle, WA 98101</td>\n",
       "      <td>2019</td>\n",
       "      <td>8</td>\n",
       "      <td>22</td>\n",
       "      <td>21</td>\n",
       "      <td>23.98</td>\n",
       "    </tr>\n",
       "    <tr>\n",
       "      <th>1</th>\n",
       "      <td>236671</td>\n",
       "      <td>Bose SoundSport Headphones</td>\n",
       "      <td>1</td>\n",
       "      <td>99.99</td>\n",
       "      <td>2019-08-15 15:11:00</td>\n",
       "      <td>492 Ridge St, Dallas, TX 75001</td>\n",
       "      <td>2019</td>\n",
       "      <td>8</td>\n",
       "      <td>15</td>\n",
       "      <td>11</td>\n",
       "      <td>99.99</td>\n",
       "    </tr>\n",
       "    <tr>\n",
       "      <th>2</th>\n",
       "      <td>236672</td>\n",
       "      <td>iPhone</td>\n",
       "      <td>1</td>\n",
       "      <td>700.00</td>\n",
       "      <td>2019-08-06 14:40:00</td>\n",
       "      <td>149 7th St, Portland, OR 97035</td>\n",
       "      <td>2019</td>\n",
       "      <td>8</td>\n",
       "      <td>14</td>\n",
       "      <td>40</td>\n",
       "      <td>700.00</td>\n",
       "    </tr>\n",
       "    <tr>\n",
       "      <th>3</th>\n",
       "      <td>236673</td>\n",
       "      <td>AA Batteries (4-pack)</td>\n",
       "      <td>2</td>\n",
       "      <td>3.84</td>\n",
       "      <td>2019-08-29 20:59:00</td>\n",
       "      <td>631 2nd St, Los Angeles, CA 90001</td>\n",
       "      <td>2019</td>\n",
       "      <td>8</td>\n",
       "      <td>20</td>\n",
       "      <td>59</td>\n",
       "      <td>7.68</td>\n",
       "    </tr>\n",
       "    <tr>\n",
       "      <th>4</th>\n",
       "      <td>236674</td>\n",
       "      <td>AA Batteries (4-pack)</td>\n",
       "      <td>2</td>\n",
       "      <td>3.84</td>\n",
       "      <td>2019-08-15 19:53:00</td>\n",
       "      <td>736 14th St, New York City, NY 10001</td>\n",
       "      <td>2019</td>\n",
       "      <td>8</td>\n",
       "      <td>19</td>\n",
       "      <td>53</td>\n",
       "      <td>7.68</td>\n",
       "    </tr>\n",
       "  </tbody>\n",
       "</table>\n",
       "</div>"
      ],
      "text/plain": [
       "  Order ID                     Product  Quantity Ordered  Price Each  \\\n",
       "0   236670            Wired Headphones                 2       11.99   \n",
       "1   236671  Bose SoundSport Headphones                 1       99.99   \n",
       "2   236672                      iPhone                 1      700.00   \n",
       "3   236673       AA Batteries (4-pack)                 2        3.84   \n",
       "4   236674       AA Batteries (4-pack)                 2        3.84   \n",
       "\n",
       "           Order Date                      Purchase Address  Year  Month  \\\n",
       "0 2019-08-31 22:21:00      359 Spruce St, Seattle, WA 98101  2019      8   \n",
       "1 2019-08-15 15:11:00        492 Ridge St, Dallas, TX 75001  2019      8   \n",
       "2 2019-08-06 14:40:00        149 7th St, Portland, OR 97035  2019      8   \n",
       "3 2019-08-29 20:59:00     631 2nd St, Los Angeles, CA 90001  2019      8   \n",
       "4 2019-08-15 19:53:00  736 14th St, New York City, NY 10001  2019      8   \n",
       "\n",
       "   Hour  Minute  Revenue  \n",
       "0    22      21    23.98  \n",
       "1    15      11    99.99  \n",
       "2    14      40   700.00  \n",
       "3    20      59     7.68  \n",
       "4    19      53     7.68  "
      ]
     },
     "execution_count": 30,
     "metadata": {},
     "output_type": "execute_result"
    }
   ],
   "source": [
    "sales.head()"
   ]
  },
  {
   "cell_type": "code",
   "execution_count": 31,
   "id": "25a4c27c",
   "metadata": {},
   "outputs": [
    {
     "data": {
      "text/plain": [
       "0               Seattle\n",
       "1                Dallas\n",
       "2              Portland\n",
       "3           Los Angeles\n",
       "4         New York City\n",
       "              ...      \n",
       "186845    San Francisco\n",
       "186846      Los Angeles\n",
       "186847          Seattle\n",
       "186848           Dallas\n",
       "186849      Los Angeles\n",
       "Name: 1, Length: 185950, dtype: object"
      ]
     },
     "execution_count": 31,
     "metadata": {},
     "output_type": "execute_result"
    }
   ],
   "source": [
    "# Get City name from 'Purchase Address'\n",
    "city = sales['Purchase Address'].str.split(\", \",expand=True)[1]\n",
    "city"
   ]
  },
  {
   "cell_type": "code",
   "execution_count": 33,
   "id": "03ee071a",
   "metadata": {},
   "outputs": [],
   "source": [
    "# Create City Column\n",
    "sales['City'] = city"
   ]
  },
  {
   "cell_type": "code",
   "execution_count": 36,
   "id": "4b9c91ee",
   "metadata": {},
   "outputs": [
    {
     "data": {
      "text/html": [
       "<div>\n",
       "<style scoped>\n",
       "    .dataframe tbody tr th:only-of-type {\n",
       "        vertical-align: middle;\n",
       "    }\n",
       "\n",
       "    .dataframe tbody tr th {\n",
       "        vertical-align: top;\n",
       "    }\n",
       "\n",
       "    .dataframe thead th {\n",
       "        text-align: right;\n",
       "    }\n",
       "</style>\n",
       "<table border=\"1\" class=\"dataframe\">\n",
       "  <thead>\n",
       "    <tr style=\"text-align: right;\">\n",
       "      <th></th>\n",
       "      <th>Order ID</th>\n",
       "      <th>Product</th>\n",
       "      <th>Quantity Ordered</th>\n",
       "      <th>Price Each</th>\n",
       "      <th>Order Date</th>\n",
       "      <th>Purchase Address</th>\n",
       "      <th>Year</th>\n",
       "      <th>Month</th>\n",
       "      <th>Hour</th>\n",
       "      <th>Minute</th>\n",
       "      <th>Revenue</th>\n",
       "      <th>City</th>\n",
       "    </tr>\n",
       "  </thead>\n",
       "  <tbody>\n",
       "    <tr>\n",
       "      <th>60933</th>\n",
       "      <td>143688</td>\n",
       "      <td>USB-C Charging Cable</td>\n",
       "      <td>1</td>\n",
       "      <td>11.95</td>\n",
       "      <td>2019-01-18 10:39:00</td>\n",
       "      <td>969 Sunset St, New York City, NY 10001</td>\n",
       "      <td>2019</td>\n",
       "      <td>1</td>\n",
       "      <td>10</td>\n",
       "      <td>39</td>\n",
       "      <td>11.95</td>\n",
       "      <td>New York City</td>\n",
       "    </tr>\n",
       "    <tr>\n",
       "      <th>81946</th>\n",
       "      <td>175266</td>\n",
       "      <td>Bose SoundSport Headphones</td>\n",
       "      <td>1</td>\n",
       "      <td>99.99</td>\n",
       "      <td>2019-03-10 16:24:00</td>\n",
       "      <td>759 2nd St, New York City, NY 10001</td>\n",
       "      <td>2019</td>\n",
       "      <td>3</td>\n",
       "      <td>16</td>\n",
       "      <td>24</td>\n",
       "      <td>99.99</td>\n",
       "      <td>New York City</td>\n",
       "    </tr>\n",
       "    <tr>\n",
       "      <th>135342</th>\n",
       "      <td>266631</td>\n",
       "      <td>Lightning Charging Cable</td>\n",
       "      <td>1</td>\n",
       "      <td>14.95</td>\n",
       "      <td>2019-10-11 10:43:00</td>\n",
       "      <td>594 Washington St, San Francisco, CA 94016</td>\n",
       "      <td>2019</td>\n",
       "      <td>10</td>\n",
       "      <td>10</td>\n",
       "      <td>43</td>\n",
       "      <td>14.95</td>\n",
       "      <td>San Francisco</td>\n",
       "    </tr>\n",
       "    <tr>\n",
       "      <th>156799</th>\n",
       "      <td>218206</td>\n",
       "      <td>Macbook Pro Laptop</td>\n",
       "      <td>1</td>\n",
       "      <td>1700.00</td>\n",
       "      <td>2019-06-28 17:04:00</td>\n",
       "      <td>258 11th St, Boston, MA 02215</td>\n",
       "      <td>2019</td>\n",
       "      <td>6</td>\n",
       "      <td>17</td>\n",
       "      <td>4</td>\n",
       "      <td>1700.00</td>\n",
       "      <td>Boston</td>\n",
       "    </tr>\n",
       "    <tr>\n",
       "      <th>132311</th>\n",
       "      <td>263719</td>\n",
       "      <td>Wired Headphones</td>\n",
       "      <td>1</td>\n",
       "      <td>11.99</td>\n",
       "      <td>2019-10-28 11:44:00</td>\n",
       "      <td>404 7th St, San Francisco, CA 94016</td>\n",
       "      <td>2019</td>\n",
       "      <td>10</td>\n",
       "      <td>11</td>\n",
       "      <td>44</td>\n",
       "      <td>11.99</td>\n",
       "      <td>San Francisco</td>\n",
       "    </tr>\n",
       "  </tbody>\n",
       "</table>\n",
       "</div>"
      ],
      "text/plain": [
       "       Order ID                     Product  Quantity Ordered  Price Each  \\\n",
       "60933    143688        USB-C Charging Cable                 1       11.95   \n",
       "81946    175266  Bose SoundSport Headphones                 1       99.99   \n",
       "135342   266631    Lightning Charging Cable                 1       14.95   \n",
       "156799   218206          Macbook Pro Laptop                 1     1700.00   \n",
       "132311   263719            Wired Headphones                 1       11.99   \n",
       "\n",
       "                Order Date                            Purchase Address  Year  \\\n",
       "60933  2019-01-18 10:39:00      969 Sunset St, New York City, NY 10001  2019   \n",
       "81946  2019-03-10 16:24:00         759 2nd St, New York City, NY 10001  2019   \n",
       "135342 2019-10-11 10:43:00  594 Washington St, San Francisco, CA 94016  2019   \n",
       "156799 2019-06-28 17:04:00               258 11th St, Boston, MA 02215  2019   \n",
       "132311 2019-10-28 11:44:00         404 7th St, San Francisco, CA 94016  2019   \n",
       "\n",
       "        Month  Hour  Minute  Revenue           City  \n",
       "60933       1    10      39    11.95  New York City  \n",
       "81946       3    16      24    99.99  New York City  \n",
       "135342     10    10      43    14.95  San Francisco  \n",
       "156799      6    17       4  1700.00         Boston  \n",
       "132311     10    11      44    11.99  San Francisco  "
      ]
     },
     "execution_count": 36,
     "metadata": {},
     "output_type": "execute_result"
    }
   ],
   "source": [
    "sales.sample(5)"
   ]
  },
  {
   "cell_type": "code",
   "execution_count": 37,
   "id": "2af7fe27",
   "metadata": {},
   "outputs": [
    {
     "name": "stdout",
     "output_type": "stream",
     "text": [
      "Number of unique values in each column :\n",
      " Order ID            178437\n",
      "Product                 19\n",
      "Quantity Ordered         9\n",
      "Price Each              17\n",
      "Order Date          142395\n",
      "Purchase Address    140787\n",
      "Year                     2\n",
      "Month                   12\n",
      "Hour                    24\n",
      "Minute                  60\n",
      "Revenue                 54\n",
      "City                     9\n",
      "dtype: int64\n"
     ]
    }
   ],
   "source": [
    "# Check number of unique values for each column\n",
    "n = sales.nunique(axis=0)\n",
    "  \n",
    "print(\"Number of unique values in each column :\\n\",n)"
   ]
  },
  {
   "cell_type": "code",
   "execution_count": 38,
   "id": "45ba177b",
   "metadata": {},
   "outputs": [
    {
     "data": {
      "text/plain": [
       "array([2019, 2020], dtype=int64)"
      ]
     },
     "execution_count": 38,
     "metadata": {},
     "output_type": "execute_result"
    }
   ],
   "source": [
    "sales['Year'].unique()"
   ]
  },
  {
   "cell_type": "markdown",
   "id": "fac2f02c",
   "metadata": {},
   "source": [
    "In this dataset we also have some of 2020 data, but in this case I only want to analyze the 2019 data. So, we'll drop the 2020 data."
   ]
  },
  {
   "cell_type": "code",
   "execution_count": 39,
   "id": "3359b78e",
   "metadata": {},
   "outputs": [],
   "source": [
    "sales = sales[sales.Year != 2020]"
   ]
  },
  {
   "cell_type": "code",
   "execution_count": 40,
   "id": "5d9d0452",
   "metadata": {},
   "outputs": [
    {
     "data": {
      "text/plain": [
       "array([2019], dtype=int64)"
      ]
     },
     "execution_count": 40,
     "metadata": {},
     "output_type": "execute_result"
    }
   ],
   "source": [
    "sales['Year'].unique()"
   ]
  },
  {
   "cell_type": "markdown",
   "id": "ed1c5e30",
   "metadata": {},
   "source": [
    "# Data Analysis"
   ]
  },
  {
   "cell_type": "markdown",
   "id": "6ae1f406",
   "metadata": {},
   "source": [
    "1] What is the total number of sales?"
   ]
  },
  {
   "cell_type": "code",
   "execution_count": 41,
   "id": "c9cdd467",
   "metadata": {},
   "outputs": [
    {
     "data": {
      "text/html": [
       "<div>\n",
       "<style scoped>\n",
       "    .dataframe tbody tr th:only-of-type {\n",
       "        vertical-align: middle;\n",
       "    }\n",
       "\n",
       "    .dataframe tbody tr th {\n",
       "        vertical-align: top;\n",
       "    }\n",
       "\n",
       "    .dataframe thead th {\n",
       "        text-align: right;\n",
       "    }\n",
       "</style>\n",
       "<table border=\"1\" class=\"dataframe\">\n",
       "  <thead>\n",
       "    <tr style=\"text-align: right;\">\n",
       "      <th></th>\n",
       "      <th>Quantity Ordered</th>\n",
       "      <th>Price Each</th>\n",
       "      <th>Revenue</th>\n",
       "    </tr>\n",
       "    <tr>\n",
       "      <th>Year</th>\n",
       "      <th></th>\n",
       "      <th></th>\n",
       "      <th></th>\n",
       "    </tr>\n",
       "  </thead>\n",
       "  <tbody>\n",
       "    <tr>\n",
       "      <th>2019</th>\n",
       "      <td>209038</td>\n",
       "      <td>184.38772</td>\n",
       "      <td>34483365.68</td>\n",
       "    </tr>\n",
       "  </tbody>\n",
       "</table>\n",
       "</div>"
      ],
      "text/plain": [
       "      Quantity Ordered  Price Each      Revenue\n",
       "Year                                           \n",
       "2019            209038   184.38772  34483365.68"
      ]
     },
     "execution_count": 41,
     "metadata": {},
     "output_type": "execute_result"
    }
   ],
   "source": [
    "year_sales = sales.groupby('Year').agg({'Quantity Ordered' : 'sum', 'Price Each' : 'mean', 'Revenue' : 'sum'})\n",
    "year_sales"
   ]
  },
  {
   "cell_type": "code",
   "execution_count": 42,
   "id": "9ab22e19",
   "metadata": {},
   "outputs": [
    {
     "name": "stdout",
     "output_type": "stream",
     "text": [
      "Quantity Ordered, Price Each, and Revenue By Product\n"
     ]
    },
    {
     "data": {
      "text/html": [
       "<div>\n",
       "<style scoped>\n",
       "    .dataframe tbody tr th:only-of-type {\n",
       "        vertical-align: middle;\n",
       "    }\n",
       "\n",
       "    .dataframe tbody tr th {\n",
       "        vertical-align: top;\n",
       "    }\n",
       "\n",
       "    .dataframe thead th {\n",
       "        text-align: right;\n",
       "    }\n",
       "</style>\n",
       "<table border=\"1\" class=\"dataframe\">\n",
       "  <thead>\n",
       "    <tr style=\"text-align: right;\">\n",
       "      <th></th>\n",
       "      <th>Quantity Ordered</th>\n",
       "      <th>Price Each</th>\n",
       "      <th>Revenue</th>\n",
       "    </tr>\n",
       "    <tr>\n",
       "      <th>Product</th>\n",
       "      <th></th>\n",
       "      <th></th>\n",
       "      <th></th>\n",
       "    </tr>\n",
       "  </thead>\n",
       "  <tbody>\n",
       "    <tr>\n",
       "      <th>20in Monitor</th>\n",
       "      <td>4126</td>\n",
       "      <td>109.99</td>\n",
       "      <td>453818.74</td>\n",
       "    </tr>\n",
       "    <tr>\n",
       "      <th>27in 4K Gaming Monitor</th>\n",
       "      <td>6243</td>\n",
       "      <td>389.99</td>\n",
       "      <td>2434707.57</td>\n",
       "    </tr>\n",
       "    <tr>\n",
       "      <th>27in FHD Monitor</th>\n",
       "      <td>7547</td>\n",
       "      <td>149.99</td>\n",
       "      <td>1131974.53</td>\n",
       "    </tr>\n",
       "    <tr>\n",
       "      <th>34in Ultrawide Monitor</th>\n",
       "      <td>6199</td>\n",
       "      <td>379.99</td>\n",
       "      <td>2355558.01</td>\n",
       "    </tr>\n",
       "    <tr>\n",
       "      <th>AA Batteries (4-pack)</th>\n",
       "      <td>27635</td>\n",
       "      <td>3.84</td>\n",
       "      <td>106118.40</td>\n",
       "    </tr>\n",
       "    <tr>\n",
       "      <th>AAA Batteries (4-pack)</th>\n",
       "      <td>31012</td>\n",
       "      <td>2.99</td>\n",
       "      <td>92725.88</td>\n",
       "    </tr>\n",
       "    <tr>\n",
       "      <th>Apple Airpods Headphones</th>\n",
       "      <td>15657</td>\n",
       "      <td>150.00</td>\n",
       "      <td>2348550.00</td>\n",
       "    </tr>\n",
       "    <tr>\n",
       "      <th>Bose SoundSport Headphones</th>\n",
       "      <td>13454</td>\n",
       "      <td>99.99</td>\n",
       "      <td>1345265.46</td>\n",
       "    </tr>\n",
       "    <tr>\n",
       "      <th>Flatscreen TV</th>\n",
       "      <td>4818</td>\n",
       "      <td>300.00</td>\n",
       "      <td>1445400.00</td>\n",
       "    </tr>\n",
       "    <tr>\n",
       "      <th>Google Phone</th>\n",
       "      <td>5531</td>\n",
       "      <td>600.00</td>\n",
       "      <td>3318600.00</td>\n",
       "    </tr>\n",
       "    <tr>\n",
       "      <th>LG Dryer</th>\n",
       "      <td>646</td>\n",
       "      <td>600.00</td>\n",
       "      <td>387600.00</td>\n",
       "    </tr>\n",
       "    <tr>\n",
       "      <th>LG Washing Machine</th>\n",
       "      <td>666</td>\n",
       "      <td>600.00</td>\n",
       "      <td>399600.00</td>\n",
       "    </tr>\n",
       "    <tr>\n",
       "      <th>Lightning Charging Cable</th>\n",
       "      <td>23211</td>\n",
       "      <td>14.95</td>\n",
       "      <td>347004.45</td>\n",
       "    </tr>\n",
       "    <tr>\n",
       "      <th>Macbook Pro Laptop</th>\n",
       "      <td>4727</td>\n",
       "      <td>1700.00</td>\n",
       "      <td>8035900.00</td>\n",
       "    </tr>\n",
       "    <tr>\n",
       "      <th>ThinkPad Laptop</th>\n",
       "      <td>4128</td>\n",
       "      <td>999.99</td>\n",
       "      <td>4127958.72</td>\n",
       "    </tr>\n",
       "    <tr>\n",
       "      <th>USB-C Charging Cable</th>\n",
       "      <td>23971</td>\n",
       "      <td>11.95</td>\n",
       "      <td>286453.45</td>\n",
       "    </tr>\n",
       "    <tr>\n",
       "      <th>Vareebadd Phone</th>\n",
       "      <td>2067</td>\n",
       "      <td>400.00</td>\n",
       "      <td>826800.00</td>\n",
       "    </tr>\n",
       "    <tr>\n",
       "      <th>Wired Headphones</th>\n",
       "      <td>20553</td>\n",
       "      <td>11.99</td>\n",
       "      <td>246430.47</td>\n",
       "    </tr>\n",
       "    <tr>\n",
       "      <th>iPhone</th>\n",
       "      <td>6847</td>\n",
       "      <td>700.00</td>\n",
       "      <td>4792900.00</td>\n",
       "    </tr>\n",
       "  </tbody>\n",
       "</table>\n",
       "</div>"
      ],
      "text/plain": [
       "                            Quantity Ordered  Price Each     Revenue\n",
       "Product                                                             \n",
       "20in Monitor                            4126      109.99   453818.74\n",
       "27in 4K Gaming Monitor                  6243      389.99  2434707.57\n",
       "27in FHD Monitor                        7547      149.99  1131974.53\n",
       "34in Ultrawide Monitor                  6199      379.99  2355558.01\n",
       "AA Batteries (4-pack)                  27635        3.84   106118.40\n",
       "AAA Batteries (4-pack)                 31012        2.99    92725.88\n",
       "Apple Airpods Headphones               15657      150.00  2348550.00\n",
       "Bose SoundSport Headphones             13454       99.99  1345265.46\n",
       "Flatscreen TV                           4818      300.00  1445400.00\n",
       "Google Phone                            5531      600.00  3318600.00\n",
       "LG Dryer                                 646      600.00   387600.00\n",
       "LG Washing Machine                       666      600.00   399600.00\n",
       "Lightning Charging Cable               23211       14.95   347004.45\n",
       "Macbook Pro Laptop                      4727     1700.00  8035900.00\n",
       "ThinkPad Laptop                         4128      999.99  4127958.72\n",
       "USB-C Charging Cable                   23971       11.95   286453.45\n",
       "Vareebadd Phone                         2067      400.00   826800.00\n",
       "Wired Headphones                       20553       11.99   246430.47\n",
       "iPhone                                  6847      700.00  4792900.00"
      ]
     },
     "execution_count": 42,
     "metadata": {},
     "output_type": "execute_result"
    }
   ],
   "source": [
    "product_sales = sales.groupby('Product').agg({'Quantity Ordered' : 'sum', 'Price Each' : 'mean', 'Revenue' : 'sum'})\n",
    "print('Quantity Ordered, Price Each, and Revenue By Product')\n",
    "product_sales"
   ]
  },
  {
   "cell_type": "code",
   "execution_count": 43,
   "id": "b5739ef0",
   "metadata": {},
   "outputs": [
    {
     "data": {
      "image/png": "[encoded data removed]",
      "text/plain": [
       "<Figure size 1152x864 with 2 Axes>"
      ]
     },
     "metadata": {
      "needs_background": "light"
     },
     "output_type": "display_data"
    }
   ],
   "source": [
    "plt.figure(figsize=(16, 12))\n",
    "sns.heatmap(sales[['Quantity Ordered', 'Price Each', 'Month', 'Hour', 'Minute', 'Revenue']].corr(), \n",
    "            annot=True, cmap='Blues',linewidths=0.005, linecolor='Black')\n",
    "\n",
    "plt.title(\"Sales Data Correlation\", weight=\"bold\", fontsize=28, pad=20) # title\n",
    "plt.xticks(weight=\"bold\", fontsize=10) # x-ticks\n",
    "plt.yticks(weight=\"bold\", fontsize=10); # y-ticks"
   ]
  },
  {
   "cell_type": "markdown",
   "id": "8732cad5",
   "metadata": {},
   "source": [
    "Q2: What was the best Month for sales? How much was earned that Month?"
   ]
  },
  {
   "cell_type": "code",
   "execution_count": 46,
   "id": "e4eec9a6",
   "metadata": {},
   "outputs": [
    {
     "name": "stdout",
     "output_type": "stream",
     "text": [
      "Total Sales by Month\n"
     ]
    },
    {
     "data": {
      "text/html": [
       "<div>\n",
       "<style scoped>\n",
       "    .dataframe tbody tr th:only-of-type {\n",
       "        vertical-align: middle;\n",
       "    }\n",
       "\n",
       "    .dataframe tbody tr th {\n",
       "        vertical-align: top;\n",
       "    }\n",
       "\n",
       "    .dataframe thead th {\n",
       "        text-align: right;\n",
       "    }\n",
       "</style>\n",
       "<table border=\"1\" class=\"dataframe\">\n",
       "  <thead>\n",
       "    <tr style=\"text-align: right;\">\n",
       "      <th></th>\n",
       "      <th>Month</th>\n",
       "      <th>Quantity Ordered</th>\n",
       "      <th>Revenue</th>\n",
       "    </tr>\n",
       "  </thead>\n",
       "  <tbody>\n",
       "    <tr>\n",
       "      <th>0</th>\n",
       "      <td>1</td>\n",
       "      <td>10862</td>\n",
       "      <td>1813586.44</td>\n",
       "    </tr>\n",
       "    <tr>\n",
       "      <th>1</th>\n",
       "      <td>2</td>\n",
       "      <td>13449</td>\n",
       "      <td>2202022.42</td>\n",
       "    </tr>\n",
       "    <tr>\n",
       "      <th>2</th>\n",
       "      <td>3</td>\n",
       "      <td>17005</td>\n",
       "      <td>2807100.38</td>\n",
       "    </tr>\n",
       "    <tr>\n",
       "      <th>3</th>\n",
       "      <td>4</td>\n",
       "      <td>20558</td>\n",
       "      <td>3390670.24</td>\n",
       "    </tr>\n",
       "    <tr>\n",
       "      <th>4</th>\n",
       "      <td>5</td>\n",
       "      <td>18667</td>\n",
       "      <td>3152606.75</td>\n",
       "    </tr>\n",
       "    <tr>\n",
       "      <th>5</th>\n",
       "      <td>6</td>\n",
       "      <td>15253</td>\n",
       "      <td>2577802.26</td>\n",
       "    </tr>\n",
       "    <tr>\n",
       "      <th>6</th>\n",
       "      <td>7</td>\n",
       "      <td>16072</td>\n",
       "      <td>2647775.76</td>\n",
       "    </tr>\n",
       "    <tr>\n",
       "      <th>7</th>\n",
       "      <td>8</td>\n",
       "      <td>13448</td>\n",
       "      <td>2244467.88</td>\n",
       "    </tr>\n",
       "    <tr>\n",
       "      <th>8</th>\n",
       "      <td>9</td>\n",
       "      <td>13109</td>\n",
       "      <td>2097560.13</td>\n",
       "    </tr>\n",
       "    <tr>\n",
       "      <th>9</th>\n",
       "      <td>10</td>\n",
       "      <td>22703</td>\n",
       "      <td>3736726.88</td>\n",
       "    </tr>\n",
       "    <tr>\n",
       "      <th>10</th>\n",
       "      <td>11</td>\n",
       "      <td>19798</td>\n",
       "      <td>3199603.20</td>\n",
       "    </tr>\n",
       "    <tr>\n",
       "      <th>11</th>\n",
       "      <td>12</td>\n",
       "      <td>28114</td>\n",
       "      <td>4613443.34</td>\n",
       "    </tr>\n",
       "  </tbody>\n",
       "</table>\n",
       "</div>"
      ],
      "text/plain": [
       "    Month  Quantity Ordered     Revenue\n",
       "0       1             10862  1813586.44\n",
       "1       2             13449  2202022.42\n",
       "2       3             17005  2807100.38\n",
       "3       4             20558  3390670.24\n",
       "4       5             18667  3152606.75\n",
       "5       6             15253  2577802.26\n",
       "6       7             16072  2647775.76\n",
       "7       8             13448  2244467.88\n",
       "8       9             13109  2097560.13\n",
       "9      10             22703  3736726.88\n",
       "10     11             19798  3199603.20\n",
       "11     12             28114  4613443.34"
      ]
     },
     "execution_count": 46,
     "metadata": {},
     "output_type": "execute_result"
    }
   ],
   "source": [
    "total_month_sales = sales.groupby('Month',as_index=False).agg({'Quantity Ordered':'sum', 'Revenue':'sum'})\n",
    "print('Total Sales by Month')\n",
    "total_month_sales"
   ]
  },
  {
   "cell_type": "code",
   "execution_count": 50,
   "id": "32d6d8e0",
   "metadata": {},
   "outputs": [
    {
     "data": {
      "text/plain": [
       "Text(0.5, 0, 'Month')"
      ]
     },
     "execution_count": 50,
     "metadata": {},
     "output_type": "execute_result"
    },
    {
     "data": {
      "image/png": "[encoded data removed]",
      "text/plain": [
       "<Figure size 720x360 with 1 Axes>"
      ]
     },
     "metadata": {
      "needs_background": "light"
     },
     "output_type": "display_data"
    }
   ],
   "source": [
    "plt.rcParams['figure.figsize']=(10,5)\n",
    "ay = sns.barplot(x='Month',y='Revenue', data=total_month_sales, color='red')\n",
    "plt.title('Total Sales by Month', weight='bold', fontsize=15, pad=15)\n",
    "plt.ylabel('Revenue (us$)', weight='bold')\n",
    "plt.xlabel('Month', weight='bold')"
   ]
  },
  {
   "cell_type": "markdown",
   "id": "ae6d6a51",
   "metadata": {},
   "source": [
    "From the graph above we can tell that December is the best month for sales with USD 4.613.443 total revenue. The reason behind this may be because there's Christmas and the holiday in December where it's the momentum to buy a new product as a gift or for themself."
   ]
  },
  {
   "cell_type": "markdown",
   "id": "46c992a5",
   "metadata": {},
   "source": [
    "Q3: What City had the highest number of sales?"
   ]
  },
  {
   "cell_type": "code",
   "execution_count": 51,
   "id": "9d6a0520",
   "metadata": {},
   "outputs": [
    {
     "name": "stdout",
     "output_type": "stream",
     "text": [
      "Total Sales by City\n"
     ]
    },
    {
     "data": {
      "text/html": [
       "<div>\n",
       "<style scoped>\n",
       "    .dataframe tbody tr th:only-of-type {\n",
       "        vertical-align: middle;\n",
       "    }\n",
       "\n",
       "    .dataframe tbody tr th {\n",
       "        vertical-align: top;\n",
       "    }\n",
       "\n",
       "    .dataframe thead th {\n",
       "        text-align: right;\n",
       "    }\n",
       "</style>\n",
       "<table border=\"1\" class=\"dataframe\">\n",
       "  <thead>\n",
       "    <tr style=\"text-align: right;\">\n",
       "      <th></th>\n",
       "      <th>City</th>\n",
       "      <th>Quantity Ordered</th>\n",
       "      <th>Revenue</th>\n",
       "    </tr>\n",
       "  </thead>\n",
       "  <tbody>\n",
       "    <tr>\n",
       "      <th>0</th>\n",
       "      <td>Atlanta</td>\n",
       "      <td>16602</td>\n",
       "      <td>2795498.58</td>\n",
       "    </tr>\n",
       "    <tr>\n",
       "      <th>1</th>\n",
       "      <td>Austin</td>\n",
       "      <td>11151</td>\n",
       "      <td>1819081.77</td>\n",
       "    </tr>\n",
       "    <tr>\n",
       "      <th>2</th>\n",
       "      <td>Boston</td>\n",
       "      <td>22524</td>\n",
       "      <td>3660315.12</td>\n",
       "    </tr>\n",
       "    <tr>\n",
       "      <th>3</th>\n",
       "      <td>Dallas</td>\n",
       "      <td>16728</td>\n",
       "      <td>2766260.45</td>\n",
       "    </tr>\n",
       "    <tr>\n",
       "      <th>4</th>\n",
       "      <td>Los Angeles</td>\n",
       "      <td>33288</td>\n",
       "      <td>5451570.81</td>\n",
       "    </tr>\n",
       "    <tr>\n",
       "      <th>5</th>\n",
       "      <td>New York City</td>\n",
       "      <td>27916</td>\n",
       "      <td>4662976.81</td>\n",
       "    </tr>\n",
       "    <tr>\n",
       "      <th>6</th>\n",
       "      <td>Portland</td>\n",
       "      <td>14051</td>\n",
       "      <td>2320337.62</td>\n",
       "    </tr>\n",
       "    <tr>\n",
       "      <th>7</th>\n",
       "      <td>San Francisco</td>\n",
       "      <td>50226</td>\n",
       "      <td>8259719.03</td>\n",
       "    </tr>\n",
       "    <tr>\n",
       "      <th>8</th>\n",
       "      <td>Seattle</td>\n",
       "      <td>16552</td>\n",
       "      <td>2747605.49</td>\n",
       "    </tr>\n",
       "  </tbody>\n",
       "</table>\n",
       "</div>"
      ],
      "text/plain": [
       "            City  Quantity Ordered     Revenue\n",
       "0        Atlanta             16602  2795498.58\n",
       "1         Austin             11151  1819081.77\n",
       "2         Boston             22524  3660315.12\n",
       "3         Dallas             16728  2766260.45\n",
       "4    Los Angeles             33288  5451570.81\n",
       "5  New York City             27916  4662976.81\n",
       "6       Portland             14051  2320337.62\n",
       "7  San Francisco             50226  8259719.03\n",
       "8        Seattle             16552  2747605.49"
      ]
     },
     "execution_count": 51,
     "metadata": {},
     "output_type": "execute_result"
    }
   ],
   "source": [
    "city_sales = sales.groupby('City',as_index=False).agg({'Quantity Ordered':'sum', 'Revenue':'sum'})\n",
    "print('Total Sales by City')\n",
    "city_sales"
   ]
  },
  {
   "cell_type": "markdown",
   "id": "0466aa1f",
   "metadata": {},
   "source": [
    "plt.rcParams['figure.figsize']=(10,10)\n",
    "ax = sns.barplot(x='Revenue',y='City', data=city_sales.sort_values('Revenue', ascending=False))\n",
    "plt.title('Total Sales by City', weight='bold', fontsize=15, pad=15)\n",
    "plt.ylabel('City', weight='bold')\n",
    "plt.xlabel('Revenue (US$)', weight='bold')\n"
   ]
  },
  {
   "cell_type": "markdown",
   "id": "9a1d2217",
   "metadata": {},
   "source": [
    "San Francisco had the highest total sales in 2019 with USD 8.259.719. We need further information and study about the demographic, economic, and advertising to figure out why San Fransisco had the highest sales compared to other cities in the USA."
   ]
  },
  {
   "cell_type": "markdown",
   "id": "39ca8647",
   "metadata": {},
   "source": [
    "Q4: What is the average sales per month?"
   ]
  },
  {
   "cell_type": "code",
   "execution_count": 53,
   "id": "05abdcdb",
   "metadata": {},
   "outputs": [
    {
     "name": "stdout",
     "output_type": "stream",
     "text": [
      "Average Sales by Month\n"
     ]
    },
    {
     "data": {
      "text/html": [
       "<div>\n",
       "<style scoped>\n",
       "    .dataframe tbody tr th:only-of-type {\n",
       "        vertical-align: middle;\n",
       "    }\n",
       "\n",
       "    .dataframe tbody tr th {\n",
       "        vertical-align: top;\n",
       "    }\n",
       "\n",
       "    .dataframe thead th {\n",
       "        text-align: right;\n",
       "    }\n",
       "</style>\n",
       "<table border=\"1\" class=\"dataframe\">\n",
       "  <thead>\n",
       "    <tr style=\"text-align: right;\">\n",
       "      <th></th>\n",
       "      <th>Revenue</th>\n",
       "    </tr>\n",
       "    <tr>\n",
       "      <th>Month</th>\n",
       "      <th></th>\n",
       "    </tr>\n",
       "  </thead>\n",
       "  <tbody>\n",
       "    <tr>\n",
       "      <th>1</th>\n",
       "      <td>187.450795</td>\n",
       "    </tr>\n",
       "    <tr>\n",
       "      <th>2</th>\n",
       "      <td>183.884962</td>\n",
       "    </tr>\n",
       "    <tr>\n",
       "      <th>3</th>\n",
       "      <td>185.250471</td>\n",
       "    </tr>\n",
       "    <tr>\n",
       "      <th>4</th>\n",
       "      <td>185.495390</td>\n",
       "    </tr>\n",
       "    <tr>\n",
       "      <th>5</th>\n",
       "      <td>190.305852</td>\n",
       "    </tr>\n",
       "    <tr>\n",
       "      <th>6</th>\n",
       "      <td>190.187565</td>\n",
       "    </tr>\n",
       "    <tr>\n",
       "      <th>7</th>\n",
       "      <td>185.249826</td>\n",
       "    </tr>\n",
       "    <tr>\n",
       "      <th>8</th>\n",
       "      <td>187.648849</td>\n",
       "    </tr>\n",
       "    <tr>\n",
       "      <th>9</th>\n",
       "      <td>180.497387</td>\n",
       "    </tr>\n",
       "    <tr>\n",
       "      <th>10</th>\n",
       "      <td>184.238580</td>\n",
       "    </tr>\n",
       "    <tr>\n",
       "      <th>11</th>\n",
       "      <td>182.074956</td>\n",
       "    </tr>\n",
       "    <tr>\n",
       "      <th>12</th>\n",
       "      <td>184.655913</td>\n",
       "    </tr>\n",
       "  </tbody>\n",
       "</table>\n",
       "</div>"
      ],
      "text/plain": [
       "          Revenue\n",
       "Month            \n",
       "1      187.450795\n",
       "2      183.884962\n",
       "3      185.250471\n",
       "4      185.495390\n",
       "5      190.305852\n",
       "6      190.187565\n",
       "7      185.249826\n",
       "8      187.648849\n",
       "9      180.497387\n",
       "10     184.238580\n",
       "11     182.074956\n",
       "12     184.655913"
      ]
     },
     "execution_count": 53,
     "metadata": {},
     "output_type": "execute_result"
    }
   ],
   "source": [
    "avg_month_sales = sales.groupby('Month').agg({'Revenue' : 'mean'})\n",
    "print('Average Sales by Month')\n",
    "avg_month_sales"
   ]
  },
  {
   "cell_type": "code",
   "execution_count": 54,
   "id": "f39a50ba",
   "metadata": {},
   "outputs": [
    {
     "data": {
      "image/png": "[encoded data removed]",
      "text/plain": [
       "<Figure size 720x360 with 1 Axes>"
      ]
     },
     "metadata": {
      "needs_background": "light"
     },
     "output_type": "display_data"
    }
   ],
   "source": [
    "plt.rcParams['figure.figsize']=(10,5)\n",
    "avg_month_sales.plot(kind='bar', color='yellow')\n",
    "plt.title('Average Sales by Month', weight='bold', fontsize=15, pad=15)\n",
    "plt.ylim(0, 250)\n",
    "plt.ylabel('Revenue (US$)', weight='bold')\n",
    "plt.xlabel('Month', weight='bold');"
   ]
  },
  {
   "cell_type": "markdown",
   "id": "2215d259",
   "metadata": {},
   "source": [
    "In 2019, May has the highest average revenue with USD 190.305852, while September has the lowest average revenue with USD 180.497387."
   ]
  },
  {
   "cell_type": "markdown",
   "id": "16421f42",
   "metadata": {},
   "source": [
    "Q5: What product sold the most? Why it sold the most?"
   ]
  },
  {
   "cell_type": "code",
   "execution_count": 55,
   "id": "c922bdbc",
   "metadata": {},
   "outputs": [
    {
     "data": {
      "text/html": [
       "<div>\n",
       "<style scoped>\n",
       "    .dataframe tbody tr th:only-of-type {\n",
       "        vertical-align: middle;\n",
       "    }\n",
       "\n",
       "    .dataframe tbody tr th {\n",
       "        vertical-align: top;\n",
       "    }\n",
       "\n",
       "    .dataframe thead th {\n",
       "        text-align: right;\n",
       "    }\n",
       "</style>\n",
       "<table border=\"1\" class=\"dataframe\">\n",
       "  <thead>\n",
       "    <tr style=\"text-align: right;\">\n",
       "      <th></th>\n",
       "      <th>Product</th>\n",
       "      <th>Quantity Ordered</th>\n",
       "    </tr>\n",
       "  </thead>\n",
       "  <tbody>\n",
       "    <tr>\n",
       "      <th>5</th>\n",
       "      <td>AAA Batteries (4-pack)</td>\n",
       "      <td>31012</td>\n",
       "    </tr>\n",
       "    <tr>\n",
       "      <th>4</th>\n",
       "      <td>AA Batteries (4-pack)</td>\n",
       "      <td>27635</td>\n",
       "    </tr>\n",
       "    <tr>\n",
       "      <th>15</th>\n",
       "      <td>USB-C Charging Cable</td>\n",
       "      <td>23971</td>\n",
       "    </tr>\n",
       "    <tr>\n",
       "      <th>12</th>\n",
       "      <td>Lightning Charging Cable</td>\n",
       "      <td>23211</td>\n",
       "    </tr>\n",
       "    <tr>\n",
       "      <th>17</th>\n",
       "      <td>Wired Headphones</td>\n",
       "      <td>20553</td>\n",
       "    </tr>\n",
       "    <tr>\n",
       "      <th>6</th>\n",
       "      <td>Apple Airpods Headphones</td>\n",
       "      <td>15657</td>\n",
       "    </tr>\n",
       "    <tr>\n",
       "      <th>7</th>\n",
       "      <td>Bose SoundSport Headphones</td>\n",
       "      <td>13454</td>\n",
       "    </tr>\n",
       "    <tr>\n",
       "      <th>2</th>\n",
       "      <td>27in FHD Monitor</td>\n",
       "      <td>7547</td>\n",
       "    </tr>\n",
       "    <tr>\n",
       "      <th>18</th>\n",
       "      <td>iPhone</td>\n",
       "      <td>6847</td>\n",
       "    </tr>\n",
       "    <tr>\n",
       "      <th>1</th>\n",
       "      <td>27in 4K Gaming Monitor</td>\n",
       "      <td>6243</td>\n",
       "    </tr>\n",
       "    <tr>\n",
       "      <th>3</th>\n",
       "      <td>34in Ultrawide Monitor</td>\n",
       "      <td>6199</td>\n",
       "    </tr>\n",
       "    <tr>\n",
       "      <th>9</th>\n",
       "      <td>Google Phone</td>\n",
       "      <td>5531</td>\n",
       "    </tr>\n",
       "    <tr>\n",
       "      <th>8</th>\n",
       "      <td>Flatscreen TV</td>\n",
       "      <td>4818</td>\n",
       "    </tr>\n",
       "    <tr>\n",
       "      <th>13</th>\n",
       "      <td>Macbook Pro Laptop</td>\n",
       "      <td>4727</td>\n",
       "    </tr>\n",
       "    <tr>\n",
       "      <th>14</th>\n",
       "      <td>ThinkPad Laptop</td>\n",
       "      <td>4128</td>\n",
       "    </tr>\n",
       "    <tr>\n",
       "      <th>0</th>\n",
       "      <td>20in Monitor</td>\n",
       "      <td>4126</td>\n",
       "    </tr>\n",
       "    <tr>\n",
       "      <th>16</th>\n",
       "      <td>Vareebadd Phone</td>\n",
       "      <td>2067</td>\n",
       "    </tr>\n",
       "    <tr>\n",
       "      <th>11</th>\n",
       "      <td>LG Washing Machine</td>\n",
       "      <td>666</td>\n",
       "    </tr>\n",
       "    <tr>\n",
       "      <th>10</th>\n",
       "      <td>LG Dryer</td>\n",
       "      <td>646</td>\n",
       "    </tr>\n",
       "  </tbody>\n",
       "</table>\n",
       "</div>"
      ],
      "text/plain": [
       "                       Product  Quantity Ordered\n",
       "5       AAA Batteries (4-pack)             31012\n",
       "4        AA Batteries (4-pack)             27635\n",
       "15        USB-C Charging Cable             23971\n",
       "12    Lightning Charging Cable             23211\n",
       "17            Wired Headphones             20553\n",
       "6     Apple Airpods Headphones             15657\n",
       "7   Bose SoundSport Headphones             13454\n",
       "2             27in FHD Monitor              7547\n",
       "18                      iPhone              6847\n",
       "1       27in 4K Gaming Monitor              6243\n",
       "3       34in Ultrawide Monitor              6199\n",
       "9                 Google Phone              5531\n",
       "8                Flatscreen TV              4818\n",
       "13          Macbook Pro Laptop              4727\n",
       "14             ThinkPad Laptop              4128\n",
       "0                 20in Monitor              4126\n",
       "16             Vareebadd Phone              2067\n",
       "11          LG Washing Machine               666\n",
       "10                    LG Dryer               646"
      ]
     },
     "execution_count": 55,
     "metadata": {},
     "output_type": "execute_result"
    }
   ],
   "source": [
    "product_sales = sales.groupby('Product',as_index=False).agg({'Quantity Ordered':'sum'}).sort_values('Quantity Ordered', ascending=False)\n",
    "product_sales"
   ]
  },
  {
   "cell_type": "code",
   "execution_count": 56,
   "id": "b910283f",
   "metadata": {},
   "outputs": [
    {
     "data": {
      "image/png": "[encoded data removed]",
      "text/plain": [
       "<Figure size 1080x720 with 1 Axes>"
      ]
     },
     "metadata": {
      "needs_background": "light"
     },
     "output_type": "display_data"
    }
   ],
   "source": [
    "plt.rcParams['figure.figsize']=(15,10)\n",
    "q5 = sns.barplot(x='Quantity Ordered',y='Product', data=product_sales.sort_values('Quantity Ordered', ascending=False), \n",
    "                 color='#0D4C92')\n",
    "plt.title('Quantity Ordered by Product', weight='bold', fontsize=15, pad=15)\n",
    "plt.xlabel('Quantity Ordered', weight='bold')\n",
    "plt.ylabel('Product', weight='bold');"
   ]
  },
  {
   "cell_type": "markdown",
   "id": "57c41d43",
   "metadata": {},
   "source": [
    " - Q6] What products are most often sold together?"
   ]
  },
  {
   "cell_type": "code",
   "execution_count": 57,
   "id": "8b59e9e7",
   "metadata": {},
   "outputs": [],
   "source": [
    "#Importing libraries to count combination products\n",
    "from itertools import combinations\n",
    "from collections import Counter"
   ]
  },
  {
   "cell_type": "code",
   "execution_count": 58,
   "id": "4c7fd95c",
   "metadata": {},
   "outputs": [
    {
     "name": "stderr",
     "output_type": "stream",
     "text": [
      "C:\\Users\\dell\\AppData\\Local\\Temp\\ipykernel_16332\\103501751.py:4: SettingWithCopyWarning: \n",
      "A value is trying to be set on a copy of a slice from a DataFrame.\n",
      "Try using .loc[row_indexer,col_indexer] = value instead\n",
      "\n",
      "See the caveats in the documentation: https://pandas.pydata.org/pandas-docs/stable/user_guide/indexing.html#returning-a-view-versus-a-copy\n",
      "  data['Bundle'] = sales.groupby('Order ID')['Product'].transform(lambda x: ','.join(x))\n"
     ]
    }
   ],
   "source": [
    "# Dropping duplicate values of 'Order ID' using duplicated() function\n",
    "data = sales[sales['Order ID'].duplicated(keep=False)]\n",
    "# Joining product ordered with the same 'Order ID' in the new column called 'Bundle'\n",
    "data['Bundle'] = sales.groupby('Order ID')['Product'].transform(lambda x: ','.join(x))\n",
    "\n",
    "pd.set_option('mode.chained_assignment', None)\n",
    "# This will stop showing the warning \n"
   ]
  },
  {
   "cell_type": "code",
   "execution_count": 59,
   "id": "16ac4af7",
   "metadata": {},
   "outputs": [
    {
     "data": {
      "text/html": [
       "<div>\n",
       "<style scoped>\n",
       "    .dataframe tbody tr th:only-of-type {\n",
       "        vertical-align: middle;\n",
       "    }\n",
       "\n",
       "    .dataframe tbody tr th {\n",
       "        vertical-align: top;\n",
       "    }\n",
       "\n",
       "    .dataframe thead th {\n",
       "        text-align: right;\n",
       "    }\n",
       "</style>\n",
       "<table border=\"1\" class=\"dataframe\">\n",
       "  <thead>\n",
       "    <tr style=\"text-align: right;\">\n",
       "      <th></th>\n",
       "      <th>Order ID</th>\n",
       "      <th>Product</th>\n",
       "      <th>Quantity Ordered</th>\n",
       "      <th>Price Each</th>\n",
       "      <th>Order Date</th>\n",
       "      <th>Purchase Address</th>\n",
       "      <th>Year</th>\n",
       "      <th>Month</th>\n",
       "      <th>Hour</th>\n",
       "      <th>Minute</th>\n",
       "      <th>Revenue</th>\n",
       "      <th>City</th>\n",
       "      <th>Bundle</th>\n",
       "    </tr>\n",
       "  </thead>\n",
       "  <tbody>\n",
       "    <tr>\n",
       "      <th>46</th>\n",
       "      <td>236716</td>\n",
       "      <td>AA Batteries (4-pack)</td>\n",
       "      <td>2</td>\n",
       "      <td>3.84</td>\n",
       "      <td>2019-08-17 20:12:00</td>\n",
       "      <td>84 Cedar St, San Francisco, CA 94016</td>\n",
       "      <td>2019</td>\n",
       "      <td>8</td>\n",
       "      <td>20</td>\n",
       "      <td>12</td>\n",
       "      <td>7.68</td>\n",
       "      <td>San Francisco</td>\n",
       "      <td>AA Batteries (4-pack),USB-C Charging Cable</td>\n",
       "    </tr>\n",
       "    <tr>\n",
       "      <th>47</th>\n",
       "      <td>236716</td>\n",
       "      <td>USB-C Charging Cable</td>\n",
       "      <td>1</td>\n",
       "      <td>11.95</td>\n",
       "      <td>2019-08-17 20:12:00</td>\n",
       "      <td>84 Cedar St, San Francisco, CA 94016</td>\n",
       "      <td>2019</td>\n",
       "      <td>8</td>\n",
       "      <td>20</td>\n",
       "      <td>12</td>\n",
       "      <td>11.95</td>\n",
       "      <td>San Francisco</td>\n",
       "      <td>AA Batteries (4-pack),USB-C Charging Cable</td>\n",
       "    </tr>\n",
       "    <tr>\n",
       "      <th>60</th>\n",
       "      <td>236729</td>\n",
       "      <td>iPhone</td>\n",
       "      <td>1</td>\n",
       "      <td>700.00</td>\n",
       "      <td>2019-08-09 09:28:00</td>\n",
       "      <td>635 Lake St, San Francisco, CA 94016</td>\n",
       "      <td>2019</td>\n",
       "      <td>8</td>\n",
       "      <td>9</td>\n",
       "      <td>28</td>\n",
       "      <td>700.00</td>\n",
       "      <td>San Francisco</td>\n",
       "      <td>iPhone,Apple Airpods Headphones</td>\n",
       "    </tr>\n",
       "    <tr>\n",
       "      <th>61</th>\n",
       "      <td>236729</td>\n",
       "      <td>Apple Airpods Headphones</td>\n",
       "      <td>1</td>\n",
       "      <td>150.00</td>\n",
       "      <td>2019-08-09 09:28:00</td>\n",
       "      <td>635 Lake St, San Francisco, CA 94016</td>\n",
       "      <td>2019</td>\n",
       "      <td>8</td>\n",
       "      <td>9</td>\n",
       "      <td>28</td>\n",
       "      <td>150.00</td>\n",
       "      <td>San Francisco</td>\n",
       "      <td>iPhone,Apple Airpods Headphones</td>\n",
       "    </tr>\n",
       "    <tr>\n",
       "      <th>62</th>\n",
       "      <td>236730</td>\n",
       "      <td>Google Phone</td>\n",
       "      <td>1</td>\n",
       "      <td>600.00</td>\n",
       "      <td>2019-08-02 10:17:00</td>\n",
       "      <td>445 Lincoln St, New York City, NY 10001</td>\n",
       "      <td>2019</td>\n",
       "      <td>8</td>\n",
       "      <td>10</td>\n",
       "      <td>17</td>\n",
       "      <td>600.00</td>\n",
       "      <td>New York City</td>\n",
       "      <td>Google Phone,Wired Headphones</td>\n",
       "    </tr>\n",
       "  </tbody>\n",
       "</table>\n",
       "</div>"
      ],
      "text/plain": [
       "   Order ID                   Product  Quantity Ordered  Price Each  \\\n",
       "46   236716     AA Batteries (4-pack)                 2        3.84   \n",
       "47   236716      USB-C Charging Cable                 1       11.95   \n",
       "60   236729                    iPhone                 1      700.00   \n",
       "61   236729  Apple Airpods Headphones                 1      150.00   \n",
       "62   236730              Google Phone                 1      600.00   \n",
       "\n",
       "            Order Date                         Purchase Address  Year  Month  \\\n",
       "46 2019-08-17 20:12:00     84 Cedar St, San Francisco, CA 94016  2019      8   \n",
       "47 2019-08-17 20:12:00     84 Cedar St, San Francisco, CA 94016  2019      8   \n",
       "60 2019-08-09 09:28:00     635 Lake St, San Francisco, CA 94016  2019      8   \n",
       "61 2019-08-09 09:28:00     635 Lake St, San Francisco, CA 94016  2019      8   \n",
       "62 2019-08-02 10:17:00  445 Lincoln St, New York City, NY 10001  2019      8   \n",
       "\n",
       "    Hour  Minute  Revenue           City  \\\n",
       "46    20      12     7.68  San Francisco   \n",
       "47    20      12    11.95  San Francisco   \n",
       "60     9      28   700.00  San Francisco   \n",
       "61     9      28   150.00  San Francisco   \n",
       "62    10      17   600.00  New York City   \n",
       "\n",
       "                                        Bundle  \n",
       "46  AA Batteries (4-pack),USB-C Charging Cable  \n",
       "47  AA Batteries (4-pack),USB-C Charging Cable  \n",
       "60             iPhone,Apple Airpods Headphones  \n",
       "61             iPhone,Apple Airpods Headphones  \n",
       "62               Google Phone,Wired Headphones  "
      ]
     },
     "execution_count": 59,
     "metadata": {},
     "output_type": "execute_result"
    }
   ],
   "source": [
    "data.head()"
   ]
  },
  {
   "cell_type": "markdown",
   "id": "a287a07a",
   "metadata": {},
   "source": [
    "- We've got some data with the same Order ID and Bundle because we did merge them in every situation in groupby without dropping the duplicate values. So, we have to drop the rows with duplicate Order ID and Bundle values."
   ]
  },
  {
   "cell_type": "code",
   "execution_count": 60,
   "id": "af2d435d",
   "metadata": {},
   "outputs": [
    {
     "name": "stdout",
     "output_type": "stream",
     "text": [
      "('iPhone', 'Lightning Charging Cable') 1004\n",
      "('Google Phone', 'USB-C Charging Cable') 987\n",
      "('iPhone', 'Wired Headphones') 447\n",
      "('Google Phone', 'Wired Headphones') 414\n",
      "('Vareebadd Phone', 'USB-C Charging Cable') 361\n",
      "('iPhone', 'Apple Airpods Headphones') 359\n",
      "('Google Phone', 'Bose SoundSport Headphones') 220\n",
      "('USB-C Charging Cable', 'Wired Headphones') 160\n",
      "('Vareebadd Phone', 'Wired Headphones') 143\n",
      "('Lightning Charging Cable', 'Wired Headphones') 92\n"
     ]
    }
   ],
   "source": [
    "# Dropping duplicate values\n",
    "data = data[['Order ID', 'Bundle']].drop_duplicates()\n",
    "# Creating a new variable for Counter\n",
    "count = Counter()\n",
    "# Creating a loop to count all the 2 product bundles.\n",
    "for row in data['Bundle']:\n",
    "    row_list = row.split(',')\n",
    "    count.update(Counter(combinations(row_list, 2)))\n",
    "# Creating another loop to display the 10 most often products that sold together.\n",
    "for key, value in count.most_common(10):\n",
    "    print(key,value)"
   ]
  },
  {
   "cell_type": "markdown",
   "id": "bbb18037",
   "metadata": {},
   "source": [
    "- We can see the most often products that sold together are iPhone and Lightning Charging Cable with 1004 transactions. Google Phone and USB-C Charging Cable came second with 987 transactions."
   ]
  },
  {
   "cell_type": "markdown",
   "id": "cae670e6",
   "metadata": {},
   "source": [
    "- With this information we could offer a smart deal bundle to the customer that buys iPhone, we could recommend the Lightning Charging Cable with a discount. We also can bundle the remaining products with good marketing strategies."
   ]
  },
  {
   "cell_type": "markdown",
   "id": "ec9889aa",
   "metadata": {},
   "source": [
    "# Conclusion"
   ]
  },
  {
   "cell_type": "markdown",
   "id": "6967fca3",
   "metadata": {},
   "source": [
    "- The total sales in 2019 were USD 34.483.365 with 209.038 products sold.\n",
    "- May has the highest average revenue with USD 190.305852, while September has the lowest average revenue with USD 180.497387.\n",
    "- December is the best month for sales with USD 4.613.443 total revenue.\n",
    "- San Francisco had the highest total sales in 2019 with USD 8.259.719 total revenue.\n",
    "- AAA Batteries (4-pack) are the most sold product with 31.012 products ordered.\n",
    "- iPhone and Lightning Charging Cable are the most often products sold together with 1004 transactions, Google Phone and USB-C Charging Cable came second with 987 transactions."
   ]
  },
  {
   "cell_type": "code",
   "execution_count": null,
   "id": "748aeb22",
   "metadata": {},
   "outputs": [],
   "source": []
  }
 ],
 "metadata": {
  "kernelspec": {
   "display_name": "Python 3 (ipykernel)",
   "language": "python",
   "name": "python3"
  },
  "language_info": {
   "codemirror_mode": {
    "name": "ipython",
    "version": 3
   },
   "file_extension": ".py",
   "mimetype": "text/x-python",
   "name": "python",
   "nbconvert_exporter": "python",
   "pygments_lexer": "ipython3",
   "version": "3.9.12"
  }
 },
 "nbformat": 4,
 "nbformat_minor": 5
}
